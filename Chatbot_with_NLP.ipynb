{
  "nbformat": 4,
  "nbformat_minor": 0,
  "metadata": {
    "colab": {
      "provenance": [],
      "authorship_tag": "ABX9TyPkwYC8UvaRee/5cZbIx4tG",
      "include_colab_link": true
    },
    "kernelspec": {
      "name": "python3",
      "display_name": "Python 3"
    },
    "language_info": {
      "name": "python"
    }
  },
  "cells": [
    {
      "cell_type": "markdown",
      "metadata": {
        "id": "view-in-github",
        "colab_type": "text"
      },
      "source": [
        "<a href=\"https://colab.research.google.com/github/Dnyanada-Nimbalkar/NLP/blob/main/Chatbot_with_NLP.ipynb\" target=\"_parent\"><img src=\"https://colab.research.google.com/assets/colab-badge.svg\" alt=\"Open In Colab\"/></a>"
      ]
    },
    {
      "cell_type": "markdown",
      "metadata": {
        "id": "erozAafaLuis"
      },
      "source": [
        "\n",
        "# Question and Answer Chat Bots"
      ]
    },
    {
      "cell_type": "code",
      "execution_count": 2,
      "metadata": {
        "id": "ljek7Zejvq1J"
      },
      "outputs": [],
      "source": [
        "import pickle\n",
        "import numpy as np"
      ]
    },
    {
      "cell_type": "code",
      "source": [
        "with open('train_qa.txt','rb') as f:\n",
        "  train_data=pickle.load(f)"
      ],
      "metadata": {
        "id": "RsUwLx2Tv7uk"
      },
      "execution_count": 3,
      "outputs": []
    },
    {
      "cell_type": "code",
      "source": [
        "with open('test_qa.txt','rb') as f:\n",
        "  test_data=pickle.load(f)"
      ],
      "metadata": {
        "id": "ciFSGsEpiyu9"
      },
      "execution_count": 4,
      "outputs": []
    },
    {
      "cell_type": "code",
      "source": [
        "all_data = train_data + test_data"
      ],
      "metadata": {
        "id": "R__4Uzw_iywO"
      },
      "execution_count": 5,
      "outputs": []
    },
    {
      "cell_type": "markdown",
      "metadata": {
        "id": "NLGTRoZlLui0"
      },
      "source": [
        "-----\n",
        "\n",
        "## Setting up Vocabulary of All Words"
      ]
    },
    {
      "cell_type": "code",
      "source": [
        "vocab=set()\n",
        "\n",
        "for story,question,answer in all_data:\n",
        "  vocab=vocab.union(set(story))\n",
        "  vocab=vocab.union(set(question))\n"
      ],
      "metadata": {
        "id": "Ekb0mwT3iyz6"
      },
      "execution_count": 6,
      "outputs": []
    },
    {
      "cell_type": "code",
      "source": [
        "vocab.add('no')\n",
        "vocab.add('yes')"
      ],
      "metadata": {
        "id": "DMOvytijiy0_"
      },
      "execution_count": 7,
      "outputs": []
    },
    {
      "cell_type": "code",
      "source": [
        "vocab_len=len(vocab) + 1"
      ],
      "metadata": {
        "id": "tiKd56Ibiy5T"
      },
      "execution_count": 8,
      "outputs": []
    },
    {
      "cell_type": "code",
      "source": [
        "all_story_lens=[len(data[0]) for data in all_data]"
      ],
      "metadata": {
        "id": "a4tvLu0riy6a"
      },
      "execution_count": 9,
      "outputs": []
    },
    {
      "cell_type": "code",
      "source": [
        "max_story_len=max(all_story_lens)"
      ],
      "metadata": {
        "id": "F47jldOaiy96"
      },
      "execution_count": 10,
      "outputs": []
    },
    {
      "cell_type": "code",
      "source": [
        "max_question_len=max([len(data[1]) for data in all_data])"
      ],
      "metadata": {
        "id": "MW4s7QECizGt"
      },
      "execution_count": 11,
      "outputs": []
    },
    {
      "cell_type": "code",
      "source": [
        "max_question_len"
      ],
      "metadata": {
        "colab": {
          "base_uri": "https://localhost:8080/"
        },
        "id": "2gMYyATgR4il",
        "outputId": "6bca41be-0326-4d06-ca7d-ac97b6582627"
      },
      "execution_count": 12,
      "outputs": [
        {
          "output_type": "execute_result",
          "data": {
            "text/plain": [
              "6"
            ]
          },
          "metadata": {},
          "execution_count": 12
        }
      ]
    },
    {
      "cell_type": "code",
      "source": [
        "!pip install keras_preprocessing"
      ],
      "metadata": {
        "colab": {
          "base_uri": "https://localhost:8080/"
        },
        "id": "En-XbQCzVR5M",
        "outputId": "aabd2bec-e429-42c1-b055-764c01f15c7f"
      },
      "execution_count": 15,
      "outputs": [
        {
          "output_type": "stream",
          "name": "stdout",
          "text": [
            "Collecting keras_preprocessing\n",
            "  Downloading Keras_Preprocessing-1.1.2-py2.py3-none-any.whl (42 kB)\n",
            "\u001b[?25l     \u001b[90m━━━━━━━━━━━━━━━━━━━━━━━━━━━━━━━━━━━━━━━━\u001b[0m \u001b[32m0.0/42.6 kB\u001b[0m \u001b[31m?\u001b[0m eta \u001b[36m-:--:--\u001b[0m\r\u001b[2K     \u001b[90m━━━━━━━━━━━━━━━━━━━━━━━━━━━━━━━━━━━━━━━━\u001b[0m \u001b[32m42.6/42.6 kB\u001b[0m \u001b[31m1.5 MB/s\u001b[0m eta \u001b[36m0:00:00\u001b[0m\n",
            "\u001b[?25hRequirement already satisfied: numpy>=1.9.1 in /usr/local/lib/python3.10/dist-packages (from keras_preprocessing) (1.23.5)\n",
            "Requirement already satisfied: six>=1.9.0 in /usr/local/lib/python3.10/dist-packages (from keras_preprocessing) (1.16.0)\n",
            "Installing collected packages: keras_preprocessing\n",
            "Successfully installed keras_preprocessing-1.1.2\n"
          ]
        }
      ]
    },
    {
      "cell_type": "code",
      "source": [
        "from keras_preprocessing.sequence import pad_sequences\n",
        "from keras.preprocessing.text import Tokenizer"
      ],
      "metadata": {
        "id": "8yvtyWwxR4kA"
      },
      "execution_count": 19,
      "outputs": []
    },
    {
      "cell_type": "code",
      "source": [
        "tokenizer=Tokenizer(filters=[])\n",
        "tokenizer.fit_on_texts(vocab)"
      ],
      "metadata": {
        "id": "LI58tunrR4oD"
      },
      "execution_count": 20,
      "outputs": []
    },
    {
      "cell_type": "code",
      "source": [
        "tokenizer.word_index"
      ],
      "metadata": {
        "colab": {
          "base_uri": "https://localhost:8080/"
        },
        "id": "_KgPijZHR4pD",
        "outputId": "cb45d790-8408-460b-d315-73bfccdc2dd8"
      },
      "execution_count": 21,
      "outputs": [
        {
          "output_type": "execute_result",
          "data": {
            "text/plain": [
              "{'got': 1,\n",
              " 'is': 2,\n",
              " 'back': 3,\n",
              " 'there': 4,\n",
              " 'left': 5,\n",
              " 'journeyed': 6,\n",
              " 'milk': 7,\n",
              " 'up': 8,\n",
              " 'bedroom': 9,\n",
              " 'mary': 10,\n",
              " 'dropped': 11,\n",
              " 'sandra': 12,\n",
              " 'put': 13,\n",
              " 'in': 14,\n",
              " 'office': 15,\n",
              " 'discarded': 16,\n",
              " 'grabbed': 17,\n",
              " 'moved': 18,\n",
              " 'took': 19,\n",
              " 'to': 20,\n",
              " 'garden': 21,\n",
              " 'no': 22,\n",
              " 'kitchen': 23,\n",
              " 'picked': 24,\n",
              " 'hallway': 25,\n",
              " 'john': 26,\n",
              " '?': 27,\n",
              " 'daniel': 28,\n",
              " 'football': 29,\n",
              " 'travelled': 30,\n",
              " 'apple': 31,\n",
              " 'yes': 32,\n",
              " 'went': 33,\n",
              " '.': 34,\n",
              " 'the': 35,\n",
              " 'down': 36,\n",
              " 'bathroom': 37}"
            ]
          },
          "metadata": {},
          "execution_count": 21
        }
      ]
    },
    {
      "cell_type": "code",
      "source": [
        "train_story_texts=[]\n",
        "train_question_tests=[]\n",
        "train_answers=[]"
      ],
      "metadata": {
        "id": "0jquFnTUR4uL"
      },
      "execution_count": 22,
      "outputs": []
    },
    {
      "cell_type": "code",
      "source": [
        "for story,question,answer in train_data:\n",
        "  train_story_texts.append(story)\n",
        "  train_question_tests.append(question)\n",
        "  train_answers.append(answer)"
      ],
      "metadata": {
        "id": "j4FCET9GR43s"
      },
      "execution_count": 23,
      "outputs": []
    },
    {
      "cell_type": "code",
      "source": [
        "train_story_seq=tokenizer.texts_to_sequences(train_story_texts)"
      ],
      "metadata": {
        "id": "8nvvg19OW2QD"
      },
      "execution_count": 24,
      "outputs": []
    },
    {
      "cell_type": "markdown",
      "metadata": {
        "id": "WxeeUbRBLujJ"
      },
      "source": [
        "### Functionalize Vectorization"
      ]
    },
    {
      "cell_type": "code",
      "source": [
        "def vectorize_stories(data,word_index=tokenizer.word_index,max_story_len=max_story_len,max_question_len=max_question_len):\n",
        "\n",
        "  # stories\n",
        "  X=[]\n",
        "  #questions\n",
        "  Xq=[]\n",
        "  #answers\n",
        "  Y=[]\n",
        "\n",
        "  for story,question,answer in data:\n",
        "    x=[word_index[word.lower()] for word in story]\n",
        "    xq=[word_index[word.lower()] for word in question]\n",
        "    y=np.zeros(len(word_index)+1)\n",
        "    y[word_index[answer]]=1\n",
        "    X.append(x)\n",
        "    Xq.append(xq)\n",
        "    Y.append(y)\n",
        "\n",
        "  return (pad_sequences(X,maxlen=max_story_len),pad_sequences(Xq,maxlen=max_question_len),np.array(Y))"
      ],
      "metadata": {
        "id": "kBH93sQPXMyV"
      },
      "execution_count": 25,
      "outputs": []
    },
    {
      "cell_type": "code",
      "source": [
        "inputs_train,queries_train,answers_train = vectorize_stories(train_data)"
      ],
      "metadata": {
        "id": "jW8KQGUuXMlK"
      },
      "execution_count": 27,
      "outputs": []
    },
    {
      "cell_type": "code",
      "source": [
        "inputs_test,queries_test,answers_test = vectorize_stories(test_data)"
      ],
      "metadata": {
        "id": "1fUpZJmeXMkN"
      },
      "execution_count": 26,
      "outputs": []
    },
    {
      "cell_type": "markdown",
      "metadata": {
        "id": "sX9fGXPTLujM"
      },
      "source": [
        "## Creating the Model"
      ]
    },
    {
      "cell_type": "code",
      "source": [
        "from keras.models import Sequential, Model"
      ],
      "metadata": {
        "id": "PyRYI4pmXMgx"
      },
      "execution_count": 29,
      "outputs": []
    },
    {
      "cell_type": "code",
      "source": [
        "from keras.layers import Embedding"
      ],
      "metadata": {
        "id": "2rb8Xt3qXMfY"
      },
      "execution_count": 31,
      "outputs": []
    },
    {
      "cell_type": "code",
      "source": [
        "from keras.layers import LSTM, Dense , Activation, Input , Permute, Dropout,add, dot, concatenate"
      ],
      "metadata": {
        "id": "tdjY4VM1XMa8"
      },
      "execution_count": 42,
      "outputs": []
    },
    {
      "cell_type": "code",
      "source": [
        "input_sequence=Input((max_story_len,))\n",
        "question=Input((max_question_len,))"
      ],
      "metadata": {
        "id": "c2I70rAIXMZ3"
      },
      "execution_count": 33,
      "outputs": []
    },
    {
      "cell_type": "code",
      "source": [
        "vocab_size=len(vocab)+1"
      ],
      "metadata": {
        "id": "i_rhWf7fyauC"
      },
      "execution_count": 34,
      "outputs": []
    },
    {
      "cell_type": "markdown",
      "metadata": {
        "id": "fyjFwEW7LujO"
      },
      "source": [
        "## Encoders\n",
        "\n",
        "### Input Encoder m"
      ]
    },
    {
      "cell_type": "code",
      "source": [
        "#input_encoder_m\n",
        "input_encoder_m=Sequential()\n",
        "\n",
        "input_encoder_m.add(Embedding(input_dim=vocab_size,output_dim=64))\n",
        "input_encoder_m.add(Dropout(0.3))\n",
        "\n",
        "#Output\n",
        "#(samples,story_maxlen,embedding_dim)"
      ],
      "metadata": {
        "id": "QMETDNXzyavh"
      },
      "execution_count": 37,
      "outputs": []
    },
    {
      "cell_type": "code",
      "source": [
        "#input_encoder_c\n",
        "input_encoder_c=Sequential()\n",
        "\n",
        "input_encoder_c.add(Embedding(input_dim=vocab_size,output_dim=max_question_len))\n",
        "input_encoder_c.add(Dropout(0.3))\n",
        "\n",
        "#Output\n",
        "#(samples,story_maxlen,max_question_len)"
      ],
      "metadata": {
        "id": "eDMOttWdyazY"
      },
      "execution_count": 38,
      "outputs": []
    },
    {
      "cell_type": "code",
      "source": [
        "question_encoder=Sequential()\n",
        "question_encoder.add(Embedding(input_dim=vocab_size,output_dim=64,input_length=max_question_len))\n",
        "question_encoder.add(Dropout(0.3))\n",
        "\n",
        "#(samples,query_maxlen,embedding_dim)"
      ],
      "metadata": {
        "id": "uoWiGJKZya1G"
      },
      "execution_count": 39,
      "outputs": []
    },
    {
      "cell_type": "code",
      "source": [
        "#encoded <---- Encoder(input)\n",
        "input_encoded_m=input_encoder_m(input_sequence)\n",
        "input_encoded_c=input_encoder_c(input_sequence)\n",
        "question_encoded=question_encoder(question)"
      ],
      "metadata": {
        "id": "dfME95C9ya5D"
      },
      "execution_count": 46,
      "outputs": []
    },
    {
      "cell_type": "code",
      "source": [
        "match=dot([input_encoded_m,question_encoded],axes=(2,2))\n",
        "match=Activation('softmax')(match)"
      ],
      "metadata": {
        "id": "U5jZOYUHya6L"
      },
      "execution_count": 47,
      "outputs": []
    },
    {
      "cell_type": "code",
      "source": [
        "response=add([match,input_encoded_c])\n",
        "response=Permute((2,1))(response)"
      ],
      "metadata": {
        "id": "Eggbk5Qe_b4I"
      },
      "execution_count": 48,
      "outputs": []
    },
    {
      "cell_type": "code",
      "source": [
        "answer=concatenate([response,question_encoded])"
      ],
      "metadata": {
        "id": "LktVi2CZ_b5E"
      },
      "execution_count": 49,
      "outputs": []
    },
    {
      "cell_type": "code",
      "source": [
        "answer"
      ],
      "metadata": {
        "colab": {
          "base_uri": "https://localhost:8080/"
        },
        "id": "T_ofwwJ8_b9-",
        "outputId": "d2dfeb7b-a0b8-4164-b131-a6779dc58e52"
      },
      "execution_count": 50,
      "outputs": [
        {
          "output_type": "execute_result",
          "data": {
            "text/plain": [
              "<KerasTensor: shape=(None, 6, 220) dtype=float32 (created by layer 'concatenate')>"
            ]
          },
          "metadata": {},
          "execution_count": 50
        }
      ]
    },
    {
      "cell_type": "code",
      "source": [
        "answer=LSTM(32)(answer)"
      ],
      "metadata": {
        "id": "8sv7nXpO_cCD"
      },
      "execution_count": 51,
      "outputs": []
    },
    {
      "cell_type": "code",
      "source": [
        "answer=Dropout(0.5)(answer)\n",
        "answer=Dense(vocab_size)(answer)  #(samples,vocab_size) #Yes/No"
      ],
      "metadata": {
        "id": "aPR8L5Sx_cMF"
      },
      "execution_count": 52,
      "outputs": []
    },
    {
      "cell_type": "code",
      "source": [
        "answer= Activation('softmax')(answer)"
      ],
      "metadata": {
        "id": "fqyTOg1SIOMW"
      },
      "execution_count": 53,
      "outputs": []
    },
    {
      "cell_type": "code",
      "source": [
        "model=Model([input_sequence,question],answer)"
      ],
      "metadata": {
        "id": "nyxHGJh4IOOD"
      },
      "execution_count": 54,
      "outputs": []
    },
    {
      "cell_type": "code",
      "source": [
        "model.compile(optimizer='rmsprop',loss='categorical_crossentropy',metrics=['accuracy'])"
      ],
      "metadata": {
        "id": "Was6UZTRIOR9"
      },
      "execution_count": 60,
      "outputs": []
    },
    {
      "cell_type": "code",
      "source": [
        "model.summary()"
      ],
      "metadata": {
        "colab": {
          "base_uri": "https://localhost:8080/"
        },
        "id": "QUhhIfIXIOhX",
        "outputId": "e55e921c-5bf1-43f0-e82b-dc2f6105cb1c"
      },
      "execution_count": 61,
      "outputs": [
        {
          "output_type": "stream",
          "name": "stdout",
          "text": [
            "Model: \"model\"\n",
            "__________________________________________________________________________________________________\n",
            " Layer (type)                   Output Shape         Param #     Connected to                     \n",
            "==================================================================================================\n",
            " input_1 (InputLayer)           [(None, 156)]        0           []                               \n",
            "                                                                                                  \n",
            " input_2 (InputLayer)           [(None, 6)]          0           []                               \n",
            "                                                                                                  \n",
            " sequential_2 (Sequential)      (None, None, 64)     2432        ['input_1[0][0]']                \n",
            "                                                                                                  \n",
            " sequential_4 (Sequential)      (None, 6, 64)        2432        ['input_2[0][0]']                \n",
            "                                                                                                  \n",
            " dot_2 (Dot)                    (None, 156, 6)       0           ['sequential_2[1][0]',           \n",
            "                                                                  'sequential_4[1][0]']           \n",
            "                                                                                                  \n",
            " activation_1 (Activation)      (None, 156, 6)       0           ['dot_2[0][0]']                  \n",
            "                                                                                                  \n",
            " sequential_3 (Sequential)      (None, None, 6)      228         ['input_1[0][0]']                \n",
            "                                                                                                  \n",
            " add_2 (Add)                    (None, 156, 6)       0           ['activation_1[0][0]',           \n",
            "                                                                  'sequential_3[1][0]']           \n",
            "                                                                                                  \n",
            " permute (Permute)              (None, 6, 156)       0           ['add_2[0][0]']                  \n",
            "                                                                                                  \n",
            " concatenate (Concatenate)      (None, 6, 220)       0           ['permute[0][0]',                \n",
            "                                                                  'sequential_4[1][0]']           \n",
            "                                                                                                  \n",
            " lstm (LSTM)                    (None, 32)           32384       ['concatenate[0][0]']            \n",
            "                                                                                                  \n",
            " dropout_5 (Dropout)            (None, 32)           0           ['lstm[0][0]']                   \n",
            "                                                                                                  \n",
            " dense (Dense)                  (None, 38)           1254        ['dropout_5[0][0]']              \n",
            "                                                                                                  \n",
            " activation_2 (Activation)      (None, 38)           0           ['dense[0][0]']                  \n",
            "                                                                                                  \n",
            "==================================================================================================\n",
            "Total params: 38,730\n",
            "Trainable params: 38,730\n",
            "Non-trainable params: 0\n",
            "__________________________________________________________________________________________________\n"
          ]
        }
      ]
    },
    {
      "cell_type": "code",
      "source": [
        "history=model.fit([inputs_train,queries_train],answers_train,batch_size=32,epochs=3,validation_data=([inputs_test,queries_test],answers_test))"
      ],
      "metadata": {
        "colab": {
          "base_uri": "https://localhost:8080/"
        },
        "id": "XsS7ZhKyKb34",
        "outputId": "641cc4a3-5c15-46bf-afe8-7305ab2ec205"
      },
      "execution_count": 62,
      "outputs": [
        {
          "output_type": "stream",
          "name": "stdout",
          "text": [
            "Epoch 1/3\n",
            "313/313 [==============================] - 11s 22ms/step - loss: 0.9338 - accuracy: 0.4989 - val_loss: 0.6967 - val_accuracy: 0.5030\n",
            "Epoch 2/3\n",
            "313/313 [==============================] - 7s 22ms/step - loss: 0.7095 - accuracy: 0.5036 - val_loss: 0.6968 - val_accuracy: 0.5030\n",
            "Epoch 3/3\n",
            "313/313 [==============================] - 7s 22ms/step - loss: 0.6996 - accuracy: 0.4952 - val_loss: 0.6933 - val_accuracy: 0.4940\n"
          ]
        }
      ]
    },
    {
      "cell_type": "code",
      "source": [
        "filename = 'chatbot_120_epochs.h5'\n",
        "model.save(filename)"
      ],
      "metadata": {
        "id": "CQ7uIOTRL5oK"
      },
      "execution_count": 63,
      "outputs": []
    },
    {
      "cell_type": "code",
      "source": [
        "history.history.items()"
      ],
      "metadata": {
        "colab": {
          "base_uri": "https://localhost:8080/"
        },
        "id": "t91BGSnYMKSY",
        "outputId": "379c2198-b649-48dd-a22b-0cf8d829a532"
      },
      "execution_count": 68,
      "outputs": [
        {
          "output_type": "execute_result",
          "data": {
            "text/plain": [
              "dict_items([('loss', [0.9338088631629944, 0.7094628214836121, 0.6996129155158997]), ('accuracy', [0.49889999628067017, 0.503600001335144, 0.4952000081539154]), ('val_loss', [0.6966920495033264, 0.6967592835426331, 0.6933035850524902]), ('val_accuracy', [0.503000020980835, 0.503000020980835, 0.49399998784065247])])"
            ]
          },
          "metadata": {},
          "execution_count": 68
        }
      ]
    },
    {
      "cell_type": "code",
      "source": [
        "import matplotlib.pyplot as plt\n",
        "%matplotlib inline\n",
        "print(history.history.keys())\n",
        "# summarize history for accuracy\n",
        "plt.plot(history.history['accuracy'])\n",
        "plt.plot(history.history['val_accuracy'])\n",
        "plt.title('model accuracy')\n",
        "plt.ylabel('accuracy')\n",
        "plt.xlabel('epoch')\n",
        "plt.legend(['train', 'test'], loc='upper left')\n",
        "plt.show()"
      ],
      "metadata": {
        "colab": {
          "base_uri": "https://localhost:8080/",
          "height": 490
        },
        "id": "46Iol6ZdL5pu",
        "outputId": "df43b06b-f363-4dee-9fac-9b12038bd899"
      },
      "execution_count": 69,
      "outputs": [
        {
          "output_type": "stream",
          "name": "stdout",
          "text": [
            "dict_keys(['loss', 'accuracy', 'val_loss', 'val_accuracy'])\n"
          ]
        },
        {
          "output_type": "display_data",
          "data": {
            "text/plain": [
              "<Figure size 640x480 with 1 Axes>"
            ],
            "image/png": "[encoded data removed]"
          },
          "metadata": {}
        }
      ]
    },
    {
      "cell_type": "code",
      "execution_count": 70,
      "metadata": {
        "id": "EygWn8FhLujT",
        "outputId": "14da3110-d735-4b38-9d35-8a7394769e5e",
        "colab": {
          "base_uri": "https://localhost:8080/"
        }
      },
      "outputs": [
        {
          "output_type": "stream",
          "name": "stdout",
          "text": [
            "Epoch 1/120\n",
            "313/313 [==============================] - 7s 22ms/step - loss: 0.6965 - accuracy: 0.5029 - val_loss: 0.6932 - val_accuracy: 0.4900\n",
            "Epoch 2/120\n",
            "313/313 [==============================] - 6s 20ms/step - loss: 0.6959 - accuracy: 0.5041 - val_loss: 0.6938 - val_accuracy: 0.5030\n",
            "Epoch 3/120\n",
            "313/313 [==============================] - 7s 22ms/step - loss: 0.6964 - accuracy: 0.4947 - val_loss: 0.6934 - val_accuracy: 0.5030\n",
            "Epoch 4/120\n",
            "313/313 [==============================] - 6s 18ms/step - loss: 0.6951 - accuracy: 0.5068 - val_loss: 0.6935 - val_accuracy: 0.4970\n",
            "Epoch 5/120\n",
            "313/313 [==============================] - 7s 22ms/step - loss: 0.6952 - accuracy: 0.5005 - val_loss: 0.6932 - val_accuracy: 0.5030\n",
            "Epoch 6/120\n",
            "313/313 [==============================] - 6s 18ms/step - loss: 0.6953 - accuracy: 0.4998 - val_loss: 0.6932 - val_accuracy: 0.5030\n",
            "Epoch 7/120\n",
            "313/313 [==============================] - 7s 22ms/step - loss: 0.6955 - accuracy: 0.4987 - val_loss: 0.6946 - val_accuracy: 0.4970\n",
            "Epoch 8/120\n",
            "313/313 [==============================] - 6s 20ms/step - loss: 0.6945 - accuracy: 0.5028 - val_loss: 0.6947 - val_accuracy: 0.5030\n",
            "Epoch 9/120\n",
            "313/313 [==============================] - 7s 22ms/step - loss: 0.6954 - accuracy: 0.4936 - val_loss: 0.6956 - val_accuracy: 0.5030\n",
            "Epoch 10/120\n",
            "313/313 [==============================] - 11s 34ms/step - loss: 0.6953 - accuracy: 0.4972 - val_loss: 0.6953 - val_accuracy: 0.4970\n",
            "Epoch 11/120\n",
            "313/313 [==============================] - 6s 20ms/step - loss: 0.6951 - accuracy: 0.4965 - val_loss: 0.6935 - val_accuracy: 0.5030\n",
            "Epoch 12/120\n",
            "313/313 [==============================] - 6s 21ms/step - loss: 0.6944 - accuracy: 0.5054 - val_loss: 0.6983 - val_accuracy: 0.5030\n",
            "Epoch 13/120\n",
            "313/313 [==============================] - 6s 20ms/step - loss: 0.6951 - accuracy: 0.5025 - val_loss: 0.6935 - val_accuracy: 0.4970\n",
            "Epoch 14/120\n",
            "313/313 [==============================] - 6s 20ms/step - loss: 0.6946 - accuracy: 0.5045 - val_loss: 0.6932 - val_accuracy: 0.5030\n",
            "Epoch 15/120\n",
            "313/313 [==============================] - 6s 20ms/step - loss: 0.6951 - accuracy: 0.5025 - val_loss: 0.6937 - val_accuracy: 0.4970\n",
            "Epoch 16/120\n",
            "313/313 [==============================] - 6s 20ms/step - loss: 0.6945 - accuracy: 0.5037 - val_loss: 0.6934 - val_accuracy: 0.5030\n",
            "Epoch 17/120\n",
            "313/313 [==============================] - 7s 22ms/step - loss: 0.6944 - accuracy: 0.5145 - val_loss: 0.6942 - val_accuracy: 0.5030\n",
            "Epoch 18/120\n",
            "313/313 [==============================] - 6s 20ms/step - loss: 0.6955 - accuracy: 0.4953 - val_loss: 0.6931 - val_accuracy: 0.5030\n",
            "Epoch 19/120\n",
            "313/313 [==============================] - 6s 21ms/step - loss: 0.6948 - accuracy: 0.4940 - val_loss: 0.6936 - val_accuracy: 0.5030\n",
            "Epoch 20/120\n",
            "313/313 [==============================] - 6s 19ms/step - loss: 0.6954 - accuracy: 0.4994 - val_loss: 0.6941 - val_accuracy: 0.5030\n",
            "Epoch 21/120\n",
            "313/313 [==============================] - 7s 22ms/step - loss: 0.6949 - accuracy: 0.4997 - val_loss: 0.6932 - val_accuracy: 0.4970\n",
            "Epoch 22/120\n",
            "313/313 [==============================] - 6s 19ms/step - loss: 0.6955 - accuracy: 0.4979 - val_loss: 0.6932 - val_accuracy: 0.5030\n",
            "Epoch 23/120\n",
            "313/313 [==============================] - 7s 22ms/step - loss: 0.6952 - accuracy: 0.4882 - val_loss: 0.6941 - val_accuracy: 0.4970\n",
            "Epoch 24/120\n",
            "313/313 [==============================] - 6s 18ms/step - loss: 0.6945 - accuracy: 0.5043 - val_loss: 0.6947 - val_accuracy: 0.4970\n",
            "Epoch 25/120\n",
            "313/313 [==============================] - 7s 23ms/step - loss: 0.6949 - accuracy: 0.4976 - val_loss: 0.6934 - val_accuracy: 0.4970\n",
            "Epoch 26/120\n",
            "313/313 [==============================] - 8s 24ms/step - loss: 0.6951 - accuracy: 0.4925 - val_loss: 0.6946 - val_accuracy: 0.5030\n",
            "Epoch 27/120\n",
            "313/313 [==============================] - 7s 22ms/step - loss: 0.6946 - accuracy: 0.4996 - val_loss: 0.6932 - val_accuracy: 0.5030\n",
            "Epoch 28/120\n",
            "313/313 [==============================] - 7s 22ms/step - loss: 0.6951 - accuracy: 0.4955 - val_loss: 0.6931 - val_accuracy: 0.5030\n",
            "Epoch 29/120\n",
            "313/313 [==============================] - 6s 19ms/step - loss: 0.6948 - accuracy: 0.5023 - val_loss: 0.6940 - val_accuracy: 0.4970\n",
            "Epoch 30/120\n",
            "313/313 [==============================] - 7s 23ms/step - loss: 0.6951 - accuracy: 0.4964 - val_loss: 0.6931 - val_accuracy: 0.5030\n",
            "Epoch 31/120\n",
            "313/313 [==============================] - 6s 19ms/step - loss: 0.6953 - accuracy: 0.4956 - val_loss: 0.6935 - val_accuracy: 0.4970\n",
            "Epoch 32/120\n",
            "313/313 [==============================] - 7s 22ms/step - loss: 0.6951 - accuracy: 0.4978 - val_loss: 0.6942 - val_accuracy: 0.5030\n",
            "Epoch 33/120\n",
            "313/313 [==============================] - 6s 19ms/step - loss: 0.6946 - accuracy: 0.5061 - val_loss: 0.6939 - val_accuracy: 0.5030\n",
            "Epoch 34/120\n",
            "313/313 [==============================] - 7s 22ms/step - loss: 0.6949 - accuracy: 0.4991 - val_loss: 0.6936 - val_accuracy: 0.5030\n",
            "Epoch 35/120\n",
            "313/313 [==============================] - 6s 19ms/step - loss: 0.6947 - accuracy: 0.4982 - val_loss: 0.6932 - val_accuracy: 0.5030\n",
            "Epoch 36/120\n",
            "313/313 [==============================] - 7s 21ms/step - loss: 0.6944 - accuracy: 0.4993 - val_loss: 0.6936 - val_accuracy: 0.4970\n",
            "Epoch 37/120\n",
            "313/313 [==============================] - 6s 20ms/step - loss: 0.6945 - accuracy: 0.5084 - val_loss: 0.6932 - val_accuracy: 0.5030\n",
            "Epoch 38/120\n",
            "313/313 [==============================] - 7s 21ms/step - loss: 0.6945 - accuracy: 0.5012 - val_loss: 0.6937 - val_accuracy: 0.4970\n",
            "Epoch 39/120\n",
            "313/313 [==============================] - 6s 20ms/step - loss: 0.6945 - accuracy: 0.5055 - val_loss: 0.6945 - val_accuracy: 0.4970\n",
            "Epoch 40/120\n",
            "313/313 [==============================] - 6s 20ms/step - loss: 0.6949 - accuracy: 0.4992 - val_loss: 0.6988 - val_accuracy: 0.4970\n",
            "Epoch 41/120\n",
            "313/313 [==============================] - 6s 21ms/step - loss: 0.6943 - accuracy: 0.5016 - val_loss: 0.6976 - val_accuracy: 0.4970\n",
            "Epoch 42/120\n",
            "313/313 [==============================] - 6s 20ms/step - loss: 0.6951 - accuracy: 0.4999 - val_loss: 0.6945 - val_accuracy: 0.4970\n",
            "Epoch 43/120\n",
            "313/313 [==============================] - 6s 20ms/step - loss: 0.6944 - accuracy: 0.5087 - val_loss: 0.6969 - val_accuracy: 0.4970\n",
            "Epoch 44/120\n",
            "313/313 [==============================] - 6s 20ms/step - loss: 0.6948 - accuracy: 0.5032 - val_loss: 0.6937 - val_accuracy: 0.5030\n",
            "Epoch 45/120\n",
            "313/313 [==============================] - 6s 21ms/step - loss: 0.6949 - accuracy: 0.4958 - val_loss: 0.6938 - val_accuracy: 0.5030\n",
            "Epoch 46/120\n",
            "313/313 [==============================] - 6s 20ms/step - loss: 0.6946 - accuracy: 0.5056 - val_loss: 0.6952 - val_accuracy: 0.4970\n",
            "Epoch 47/120\n",
            "313/313 [==============================] - 7s 21ms/step - loss: 0.6947 - accuracy: 0.5027 - val_loss: 0.6945 - val_accuracy: 0.4930\n",
            "Epoch 48/120\n",
            "313/313 [==============================] - 6s 19ms/step - loss: 0.6937 - accuracy: 0.5080 - val_loss: 0.6964 - val_accuracy: 0.5060\n",
            "Epoch 49/120\n",
            "313/313 [==============================] - 7s 21ms/step - loss: 0.6920 - accuracy: 0.5121 - val_loss: 0.6926 - val_accuracy: 0.4860\n",
            "Epoch 50/120\n",
            "313/313 [==============================] - 6s 19ms/step - loss: 0.6880 - accuracy: 0.5260 - val_loss: 0.6902 - val_accuracy: 0.5290\n",
            "Epoch 51/120\n",
            "313/313 [==============================] - 7s 22ms/step - loss: 0.6804 - accuracy: 0.5408 - val_loss: 0.6782 - val_accuracy: 0.5590\n",
            "Epoch 52/120\n",
            "313/313 [==============================] - 6s 18ms/step - loss: 0.6680 - accuracy: 0.5835 - val_loss: 0.6525 - val_accuracy: 0.6270\n",
            "Epoch 53/120\n",
            "313/313 [==============================] - 7s 22ms/step - loss: 0.6470 - accuracy: 0.6281 - val_loss: 0.6415 - val_accuracy: 0.6360\n",
            "Epoch 54/120\n",
            "313/313 [==============================] - 6s 18ms/step - loss: 0.6368 - accuracy: 0.6419 - val_loss: 0.6328 - val_accuracy: 0.6470\n",
            "Epoch 55/120\n",
            "313/313 [==============================] - 7s 22ms/step - loss: 0.6319 - accuracy: 0.6473 - val_loss: 0.6270 - val_accuracy: 0.6520\n",
            "Epoch 56/120\n",
            "313/313 [==============================] - 6s 18ms/step - loss: 0.6276 - accuracy: 0.6601 - val_loss: 0.6239 - val_accuracy: 0.6500\n",
            "Epoch 57/120\n",
            "313/313 [==============================] - 7s 22ms/step - loss: 0.6192 - accuracy: 0.6608 - val_loss: 0.6332 - val_accuracy: 0.6360\n",
            "Epoch 58/120\n",
            "313/313 [==============================] - 6s 19ms/step - loss: 0.6164 - accuracy: 0.6686 - val_loss: 0.6161 - val_accuracy: 0.6420\n",
            "Epoch 59/120\n",
            "313/313 [==============================] - 7s 22ms/step - loss: 0.6053 - accuracy: 0.6697 - val_loss: 0.5984 - val_accuracy: 0.6720\n",
            "Epoch 60/120\n",
            "313/313 [==============================] - 7s 22ms/step - loss: 0.5948 - accuracy: 0.6844 - val_loss: 0.5855 - val_accuracy: 0.6690\n",
            "Epoch 61/120\n",
            "313/313 [==============================] - 7s 22ms/step - loss: 0.5786 - accuracy: 0.6929 - val_loss: 0.5753 - val_accuracy: 0.6970\n",
            "Epoch 62/120\n",
            "313/313 [==============================] - 6s 18ms/step - loss: 0.5691 - accuracy: 0.7053 - val_loss: 0.5571 - val_accuracy: 0.7070\n",
            "Epoch 63/120\n",
            "313/313 [==============================] - 7s 22ms/step - loss: 0.5582 - accuracy: 0.7204 - val_loss: 0.5427 - val_accuracy: 0.7130\n",
            "Epoch 64/120\n",
            "313/313 [==============================] - 6s 18ms/step - loss: 0.5405 - accuracy: 0.7322 - val_loss: 0.5288 - val_accuracy: 0.7280\n",
            "Epoch 65/120\n",
            "313/313 [==============================] - 7s 22ms/step - loss: 0.5193 - accuracy: 0.7480 - val_loss: 0.5140 - val_accuracy: 0.7350\n",
            "Epoch 66/120\n",
            "313/313 [==============================] - 6s 18ms/step - loss: 0.5066 - accuracy: 0.7559 - val_loss: 0.5065 - val_accuracy: 0.7500\n",
            "Epoch 67/120\n",
            "313/313 [==============================] - 7s 23ms/step - loss: 0.4994 - accuracy: 0.7655 - val_loss: 0.4936 - val_accuracy: 0.7650\n",
            "Epoch 68/120\n",
            "313/313 [==============================] - 6s 20ms/step - loss: 0.4825 - accuracy: 0.7764 - val_loss: 0.4762 - val_accuracy: 0.7650\n",
            "Epoch 69/120\n",
            "313/313 [==============================] - 7s 23ms/step - loss: 0.4685 - accuracy: 0.7888 - val_loss: 0.4743 - val_accuracy: 0.7760\n",
            "Epoch 70/120\n",
            "313/313 [==============================] - 6s 19ms/step - loss: 0.4663 - accuracy: 0.7892 - val_loss: 0.4730 - val_accuracy: 0.7690\n",
            "Epoch 71/120\n",
            "313/313 [==============================] - 7s 23ms/step - loss: 0.4541 - accuracy: 0.7927 - val_loss: 0.4549 - val_accuracy: 0.7880\n",
            "Epoch 72/120\n",
            "313/313 [==============================] - 6s 19ms/step - loss: 0.4476 - accuracy: 0.8014 - val_loss: 0.4462 - val_accuracy: 0.7860\n",
            "Epoch 73/120\n",
            "313/313 [==============================] - 7s 22ms/step - loss: 0.4394 - accuracy: 0.8025 - val_loss: 0.4447 - val_accuracy: 0.7940\n",
            "Epoch 74/120\n",
            "313/313 [==============================] - 6s 19ms/step - loss: 0.4331 - accuracy: 0.8048 - val_loss: 0.4442 - val_accuracy: 0.7900\n",
            "Epoch 75/120\n",
            "313/313 [==============================] - 7s 22ms/step - loss: 0.4315 - accuracy: 0.8079 - val_loss: 0.4436 - val_accuracy: 0.8080\n",
            "Epoch 76/120\n",
            "313/313 [==============================] - 6s 19ms/step - loss: 0.4240 - accuracy: 0.8144 - val_loss: 0.4282 - val_accuracy: 0.8130\n",
            "Epoch 77/120\n",
            "313/313 [==============================] - 7s 22ms/step - loss: 0.4172 - accuracy: 0.8226 - val_loss: 0.4102 - val_accuracy: 0.8100\n",
            "Epoch 78/120\n",
            "313/313 [==============================] - 6s 19ms/step - loss: 0.4109 - accuracy: 0.8228 - val_loss: 0.4291 - val_accuracy: 0.8080\n",
            "Epoch 79/120\n",
            "313/313 [==============================] - 7s 23ms/step - loss: 0.4031 - accuracy: 0.8290 - val_loss: 0.4219 - val_accuracy: 0.8180\n",
            "Epoch 80/120\n",
            "313/313 [==============================] - 6s 18ms/step - loss: 0.3939 - accuracy: 0.8316 - val_loss: 0.4221 - val_accuracy: 0.8220\n",
            "Epoch 81/120\n",
            "313/313 [==============================] - 7s 23ms/step - loss: 0.3895 - accuracy: 0.8310 - val_loss: 0.3973 - val_accuracy: 0.8210\n",
            "Epoch 82/120\n",
            "313/313 [==============================] - 6s 20ms/step - loss: 0.3811 - accuracy: 0.8327 - val_loss: 0.4020 - val_accuracy: 0.8190\n",
            "Epoch 83/120\n",
            "313/313 [==============================] - 7s 23ms/step - loss: 0.3736 - accuracy: 0.8429 - val_loss: 0.4057 - val_accuracy: 0.8200\n",
            "Epoch 84/120\n",
            "313/313 [==============================] - 6s 20ms/step - loss: 0.3769 - accuracy: 0.8406 - val_loss: 0.4038 - val_accuracy: 0.8030\n",
            "Epoch 85/120\n",
            "313/313 [==============================] - 8s 24ms/step - loss: 0.3724 - accuracy: 0.8412 - val_loss: 0.4405 - val_accuracy: 0.8120\n",
            "Epoch 86/120\n",
            "313/313 [==============================] - 6s 20ms/step - loss: 0.3746 - accuracy: 0.8422 - val_loss: 0.4034 - val_accuracy: 0.8200\n",
            "Epoch 87/120\n",
            "313/313 [==============================] - 7s 23ms/step - loss: 0.3613 - accuracy: 0.8461 - val_loss: 0.3916 - val_accuracy: 0.8140\n",
            "Epoch 88/120\n",
            "313/313 [==============================] - 6s 20ms/step - loss: 0.3590 - accuracy: 0.8476 - val_loss: 0.4098 - val_accuracy: 0.8230\n",
            "Epoch 89/120\n",
            "313/313 [==============================] - 7s 23ms/step - loss: 0.3536 - accuracy: 0.8518 - val_loss: 0.4125 - val_accuracy: 0.8100\n",
            "Epoch 90/120\n",
            "313/313 [==============================] - 6s 19ms/step - loss: 0.3471 - accuracy: 0.8532 - val_loss: 0.3918 - val_accuracy: 0.8170\n",
            "Epoch 91/120\n",
            "313/313 [==============================] - 7s 23ms/step - loss: 0.3513 - accuracy: 0.8483 - val_loss: 0.3951 - val_accuracy: 0.8230\n",
            "Epoch 92/120\n",
            "313/313 [==============================] - 6s 19ms/step - loss: 0.3490 - accuracy: 0.8509 - val_loss: 0.4131 - val_accuracy: 0.8270\n",
            "Epoch 93/120\n",
            "313/313 [==============================] - 8s 27ms/step - loss: 0.3359 - accuracy: 0.8560 - val_loss: 0.3960 - val_accuracy: 0.8190\n",
            "Epoch 94/120\n",
            "313/313 [==============================] - 6s 21ms/step - loss: 0.3402 - accuracy: 0.8540 - val_loss: 0.3966 - val_accuracy: 0.8110\n",
            "Epoch 95/120\n",
            "313/313 [==============================] - 7s 21ms/step - loss: 0.3397 - accuracy: 0.8570 - val_loss: 0.4127 - val_accuracy: 0.8260\n",
            "Epoch 96/120\n",
            "313/313 [==============================] - 7s 22ms/step - loss: 0.3371 - accuracy: 0.8569 - val_loss: 0.4059 - val_accuracy: 0.8210\n",
            "Epoch 97/120\n",
            "313/313 [==============================] - 6s 21ms/step - loss: 0.3286 - accuracy: 0.8651 - val_loss: 0.4109 - val_accuracy: 0.8210\n",
            "Epoch 98/120\n",
            "313/313 [==============================] - 7s 22ms/step - loss: 0.3275 - accuracy: 0.8594 - val_loss: 0.4132 - val_accuracy: 0.8220\n",
            "Epoch 99/120\n",
            "313/313 [==============================] - 6s 20ms/step - loss: 0.3227 - accuracy: 0.8649 - val_loss: 0.4128 - val_accuracy: 0.8200\n",
            "Epoch 100/120\n",
            "313/313 [==============================] - 7s 23ms/step - loss: 0.3231 - accuracy: 0.8620 - val_loss: 0.4129 - val_accuracy: 0.8240\n",
            "Epoch 101/120\n",
            "313/313 [==============================] - 6s 19ms/step - loss: 0.3222 - accuracy: 0.8638 - val_loss: 0.4078 - val_accuracy: 0.8170\n",
            "Epoch 102/120\n",
            "313/313 [==============================] - 7s 22ms/step - loss: 0.3141 - accuracy: 0.8675 - val_loss: 0.4128 - val_accuracy: 0.8150\n",
            "Epoch 103/120\n",
            "313/313 [==============================] - 6s 19ms/step - loss: 0.3174 - accuracy: 0.8675 - val_loss: 0.4085 - val_accuracy: 0.8240\n",
            "Epoch 104/120\n",
            "313/313 [==============================] - 7s 21ms/step - loss: 0.3118 - accuracy: 0.8677 - val_loss: 0.4123 - val_accuracy: 0.8210\n",
            "Epoch 105/120\n",
            "313/313 [==============================] - 6s 19ms/step - loss: 0.3107 - accuracy: 0.8675 - val_loss: 0.4148 - val_accuracy: 0.8170\n",
            "Epoch 106/120\n",
            "313/313 [==============================] - 7s 21ms/step - loss: 0.3139 - accuracy: 0.8668 - val_loss: 0.4164 - val_accuracy: 0.8200\n",
            "Epoch 107/120\n",
            "313/313 [==============================] - 6s 20ms/step - loss: 0.3077 - accuracy: 0.8714 - val_loss: 0.4105 - val_accuracy: 0.8200\n",
            "Epoch 108/120\n",
            "313/313 [==============================] - 7s 21ms/step - loss: 0.3001 - accuracy: 0.8748 - val_loss: 0.4117 - val_accuracy: 0.8200\n",
            "Epoch 109/120\n",
            "313/313 [==============================] - 6s 20ms/step - loss: 0.2979 - accuracy: 0.8756 - val_loss: 0.4152 - val_accuracy: 0.8290\n",
            "Epoch 110/120\n",
            "313/313 [==============================] - 6s 20ms/step - loss: 0.2971 - accuracy: 0.8758 - val_loss: 0.4120 - val_accuracy: 0.8240\n",
            "Epoch 111/120\n",
            "313/313 [==============================] - 6s 20ms/step - loss: 0.2949 - accuracy: 0.8760 - val_loss: 0.4232 - val_accuracy: 0.8210\n",
            "Epoch 112/120\n",
            "313/313 [==============================] - 6s 20ms/step - loss: 0.2916 - accuracy: 0.8794 - val_loss: 0.4258 - val_accuracy: 0.8200\n",
            "Epoch 113/120\n",
            "313/313 [==============================] - 7s 22ms/step - loss: 0.2840 - accuracy: 0.8814 - val_loss: 0.4243 - val_accuracy: 0.8220\n",
            "Epoch 114/120\n",
            "313/313 [==============================] - 6s 20ms/step - loss: 0.2854 - accuracy: 0.8808 - val_loss: 0.4174 - val_accuracy: 0.8180\n",
            "Epoch 115/120\n",
            "313/313 [==============================] - 7s 22ms/step - loss: 0.2757 - accuracy: 0.8844 - val_loss: 0.4082 - val_accuracy: 0.8270\n",
            "Epoch 116/120\n",
            "313/313 [==============================] - 7s 21ms/step - loss: 0.2816 - accuracy: 0.8793 - val_loss: 0.4322 - val_accuracy: 0.8230\n",
            "Epoch 117/120\n",
            "313/313 [==============================] - 7s 21ms/step - loss: 0.2786 - accuracy: 0.8830 - val_loss: 0.4337 - val_accuracy: 0.8250\n",
            "Epoch 118/120\n",
            "313/313 [==============================] - 7s 21ms/step - loss: 0.2772 - accuracy: 0.8862 - val_loss: 0.4223 - val_accuracy: 0.8190\n",
            "Epoch 119/120\n",
            "313/313 [==============================] - 6s 20ms/step - loss: 0.2696 - accuracy: 0.8853 - val_loss: 0.4298 - val_accuracy: 0.8210\n",
            "Epoch 120/120\n",
            "313/313 [==============================] - 7s 21ms/step - loss: 0.2662 - accuracy: 0.8905 - val_loss: 0.4362 - val_accuracy: 0.8180\n"
          ]
        }
      ],
      "source": [
        "# train\n",
        "history = model.fit([inputs_train, queries_train], answers_train,batch_size=32,epochs=120,validation_data=([inputs_test, queries_test], answers_test))"
      ]
    },
    {
      "cell_type": "markdown",
      "metadata": {
        "id": "sV9R2C5ILujU"
      },
      "source": [
        "## Evaluating the Model\n",
        "\n",
        "### Plotting Out Training History"
      ]
    },
    {
      "cell_type": "code",
      "source": [
        "import matplotlib.pyplot as plt\n",
        "%matplotlib inline\n",
        "print(history.history.keys())\n",
        "# summarize history for accuracy\n",
        "plt.plot(history.history['accuracy'])\n",
        "plt.plot(history.history['val_accuracy'])\n",
        "plt.title('model accuracy')\n",
        "plt.ylabel('accuracy')\n",
        "plt.xlabel('epoch')\n",
        "plt.legend(['train', 'test'], loc='upper left')\n",
        "plt.show()"
      ],
      "metadata": {
        "colab": {
          "base_uri": "https://localhost:8080/",
          "height": 490
        },
        "id": "cfdl2fg1NLWY",
        "outputId": "98665936-b09b-472c-8f73-bf9dd18b3777"
      },
      "execution_count": 72,
      "outputs": [
        {
          "output_type": "stream",
          "name": "stdout",
          "text": [
            "dict_keys(['loss', 'accuracy', 'val_loss', 'val_accuracy'])\n"
          ]
        },
        {
          "output_type": "display_data",
          "data": {
            "text/plain": [
              "<Figure size 640x480 with 1 Axes>"
            ],
            "image/png": "[encoded data removed]"
          },
          "metadata": {}
        }
      ]
    },
    {
      "cell_type": "markdown",
      "metadata": {
        "id": "zjiQ2sSyLujU"
      },
      "source": [
        "### Evaluating on Given Test Set"
      ]
    },
    {
      "cell_type": "code",
      "source": [
        "model.load_weights(filename)\n",
        "pred_results = model.predict(([inputs_test, queries_test]))"
      ],
      "metadata": {
        "colab": {
          "base_uri": "https://localhost:8080/"
        },
        "id": "R-83S3M7L5uh",
        "outputId": "f3932e54-007a-4728-b2d1-78bddd7b024e"
      },
      "execution_count": 73,
      "outputs": [
        {
          "output_type": "stream",
          "name": "stdout",
          "text": [
            "32/32 [==============================] - 1s 5ms/step\n"
          ]
        }
      ]
    },
    {
      "cell_type": "code",
      "source": [
        "story =' '.join(word for word in test_data[0][0])\n",
        "print(story)"
      ],
      "metadata": {
        "colab": {
          "base_uri": "https://localhost:8080/"
        },
        "id": "jQ18D5bsL5wE",
        "outputId": "05aed82b-69f7-49de-f7f8-d54f6ce8c3cb"
      },
      "execution_count": 74,
      "outputs": [
        {
          "output_type": "stream",
          "name": "stdout",
          "text": [
            "Mary got the milk there . John moved to the bedroom .\n"
          ]
        }
      ]
    },
    {
      "cell_type": "code",
      "source": [
        "query = ' '.join(word for word in test_data[0][1])\n",
        "print(query)"
      ],
      "metadata": {
        "colab": {
          "base_uri": "https://localhost:8080/"
        },
        "id": "jRvyayVzL50s",
        "outputId": "1d650a33-f94b-40b8-c131-b4a3834a9f42"
      },
      "execution_count": 75,
      "outputs": [
        {
          "output_type": "stream",
          "name": "stdout",
          "text": [
            "Is John in the kitchen ?\n"
          ]
        }
      ]
    },
    {
      "cell_type": "code",
      "source": [
        "print(\"True Test Answer from Data is:\",test_data[0][2])"
      ],
      "metadata": {
        "colab": {
          "base_uri": "https://localhost:8080/"
        },
        "id": "RKVal43fRUmV",
        "outputId": "b9eb09ce-bc0f-424e-d0fc-969e9924d828"
      },
      "execution_count": 76,
      "outputs": [
        {
          "output_type": "stream",
          "name": "stdout",
          "text": [
            "True Test Answer from Data is: no\n"
          ]
        }
      ]
    },
    {
      "cell_type": "code",
      "source": [
        "#Generate prediction from model\n",
        "val_max = np.argmax(pred_results[0])\n",
        "\n",
        "for key, val in tokenizer.word_index.items():\n",
        "    if val == val_max:\n",
        "        k = key\n",
        "\n",
        "print(\"Predicted answer is: \", k)\n",
        "print(\"Probability of certainty was: \", pred_results[0][val_max])"
      ],
      "metadata": {
        "colab": {
          "base_uri": "https://localhost:8080/"
        },
        "id": "rmE4RdI2RUnu",
        "outputId": "a20e0d29-e38b-4c6d-dcac-f9121a3a4309"
      },
      "execution_count": 77,
      "outputs": [
        {
          "output_type": "stream",
          "name": "stdout",
          "text": [
            "Predicted answer is:  yes\n",
            "Probability of certainty was:  0.500473\n"
          ]
        }
      ]
    },
    {
      "cell_type": "markdown",
      "metadata": {
        "id": "wmrWy4-iLujX"
      },
      "source": [
        "## Writing Your Own Stories and Questions\n",
        "\n",
        "Remember you can only use words from the existing vocab"
      ]
    },
    {
      "cell_type": "code",
      "source": [
        "# Note the whitespace of the periods\n",
        "my_story = \"John left the kitchen . Sandra dropped the football in the garden .\"\n",
        "my_story.split()"
      ],
      "metadata": {
        "colab": {
          "base_uri": "https://localhost:8080/"
        },
        "id": "RTajiFz6RUww",
        "outputId": "dd700605-20d8-403a-be6d-00bb41bd3102"
      },
      "execution_count": 78,
      "outputs": [
        {
          "output_type": "execute_result",
          "data": {
            "text/plain": [
              "['John',\n",
              " 'left',\n",
              " 'the',\n",
              " 'kitchen',\n",
              " '.',\n",
              " 'Sandra',\n",
              " 'dropped',\n",
              " 'the',\n",
              " 'football',\n",
              " 'in',\n",
              " 'the',\n",
              " 'garden',\n",
              " '.']"
            ]
          },
          "metadata": {},
          "execution_count": 78
        }
      ]
    },
    {
      "cell_type": "code",
      "source": [
        "my_question = \"Is the football in the garden ?\""
      ],
      "metadata": {
        "id": "EDAwz_dKRU5Q"
      },
      "execution_count": 79,
      "outputs": []
    },
    {
      "cell_type": "code",
      "source": [
        "mydata = [(my_story.split(),my_question.split(),'yes')]"
      ],
      "metadata": {
        "id": "nEcDR-6MRpu2"
      },
      "execution_count": 80,
      "outputs": []
    },
    {
      "cell_type": "code",
      "source": [
        "my_story,my_ques,my_ans = vectorize_stories(mydata)"
      ],
      "metadata": {
        "id": "rw0YJOpRRpwp"
      },
      "execution_count": 81,
      "outputs": []
    },
    {
      "cell_type": "code",
      "source": [
        "pred_results = model.predict(([ my_story, my_ques]))"
      ],
      "metadata": {
        "colab": {
          "base_uri": "https://localhost:8080/"
        },
        "id": "97H_yyiSRpz_",
        "outputId": "563d8728-1da0-4d44-80d6-4203802658e4"
      },
      "execution_count": 82,
      "outputs": [
        {
          "output_type": "stream",
          "name": "stdout",
          "text": [
            "1/1 [==============================] - 0s 27ms/step\n"
          ]
        }
      ]
    },
    {
      "cell_type": "code",
      "source": [
        "#Generate prediction from model\n",
        "val_max = np.argmax(pred_results[0])\n",
        "\n",
        "for key, val in tokenizer.word_index.items():\n",
        "    if val == val_max:\n",
        "        k = key\n",
        "\n",
        "print(\"Predicted answer is: \", k)\n",
        "print(\"Probability of certainty was: \", pred_results[0][val_max])"
      ],
      "metadata": {
        "colab": {
          "base_uri": "https://localhost:8080/"
        },
        "id": "pPAn_qUuRp11",
        "outputId": "d76395b3-9a80-4801-91cc-f0ced673a3f4"
      },
      "execution_count": 83,
      "outputs": [
        {
          "output_type": "stream",
          "name": "stdout",
          "text": [
            "Predicted answer is:  no\n",
            "Probability of certainty was:  0.49994135\n"
          ]
        }
      ]
    }
  ]
}